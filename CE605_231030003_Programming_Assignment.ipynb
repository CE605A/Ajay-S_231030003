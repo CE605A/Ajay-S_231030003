{
  "nbformat": 4,
  "nbformat_minor": 0,
  "metadata": {
    "colab": {
      "provenance": [],
      "mount_file_id": "1NoDqZ7pZsPCxXciA2YYbRvzE9QBLYPJD",
      "authorship_tag": "ABX9TyMl/fNiZFnwll9msFr9MY0j",
      "include_colab_link": true
    },
    "kernelspec": {
      "name": "python3",
      "display_name": "Python 3"
    },
    "language_info": {
      "name": "python"
    }
  },
  "cells": [
    {
      "cell_type": "markdown",
      "metadata": {
        "id": "view-in-github",
        "colab_type": "text"
      },
      "source": [
        "<a href=\"https://colab.research.google.com/github/CE605A/Ajay-S_231030003/blob/main/CE605_231030003_Programming_Assignment.ipynb\" target=\"_parent\"><img src=\"https://colab.research.google.com/assets/colab-badge.svg\" alt=\"Open In Colab\"/></a>"
      ]
    },
    {
      "cell_type": "code",
      "execution_count": null,
      "metadata": {
        "colab": {
          "base_uri": "https://localhost:8080/"
        },
        "id": "UfyVl1fCBZ_9",
        "outputId": "f9cfcc89-2460-4169-8445-af5fc006213b"
      },
      "outputs": [
        {
          "output_type": "stream",
          "name": "stdout",
          "text": [
            "Enter the row vector elements1 2 3 4\n",
            "Enter the column vector elemnts 5 6 7 8\n",
            "Row vector using input method [1 2 3 4]\n",
            "Column vector using input method [[5]\n",
            " [6]\n",
            " [7]\n",
            " [8]]\n",
            "Row vector using manually [1 2 3 4]\n",
            "Column vector using manually [[5]\n",
            " [6]\n",
            " [7]\n",
            " [8]]\n"
          ]
        }
      ],
      "source": [
        "# 1. Create a row and column vector using input method and manually.\n",
        "# Using input method\n",
        "#Creating row vector\n",
        "import numpy as np\n",
        "row=input(\"Enter the row vector elements\")\n",
        "row_vector=[int(x) for x in row.split()]\n",
        "row_input=np.array(row_vector)\n",
        "#Creating column vector\n",
        "import numpy as np\n",
        "column=input(\"Enter the column vector elemnts \")\n",
        "column_vector=[int(x) for x in column.split()]\n",
        "column_input=np.array(column_vector).reshape(-1,1)\n",
        "\n",
        "#Using manually\n",
        "# To get the row vector\n",
        "import numpy as np\n",
        "rowvector=[1,2,3,4]\n",
        "r=np.array(rowvector)\n",
        "#To get the column vector\n",
        "import numpy as np\n",
        "columnvector=[[5],\n",
        "               [6],\n",
        "              [7],\n",
        "              [8]]\n",
        "c=np.array(columnvector)\n",
        "\n",
        "#To print the outputs\n",
        "print(\"Row vector using input method\",row_input)\n",
        "print(\"Column vector using input method\",column_input)\n",
        "print(\"Row vector using manually\",r)\n",
        "print(\"Column vector using manually\",c)\n",
        "\n"
      ]
    },
    {
      "cell_type": "code",
      "source": [
        "# 2. Create a matrix (5x5) using input method as well as manually and save it as\"a\"\n",
        "# (5x5) matrix using input method\n",
        "import numpy as np\n",
        "a=[]\n",
        "print(\"Enter the elements of the matrix\")\n",
        "for i in range(5):\n",
        "  row=[]\n",
        "  for j in range(5):\n",
        "    elements=int(input(f\"Enter the elements at {i+1},{j+1} :\"))\n",
        "    row.append(elements)\n",
        "  a.append(row)\n",
        "\n",
        "a=np.array(a)\n",
        "#To print the (5x5) matrix\n",
        "print(\"The (5x5) 'a' matrix is = \",a)\n",
        "\n",
        "#Create (5x5) matrix manually\n",
        "import numpy as np\n",
        "a_manual=[[1,2,3,4,5],\n",
        "   [6,7,8,9,10],\n",
        "   [11,12,13,14,15],\n",
        "   [16,17,18,19,20],\n",
        "   [21,22,23,24,25]]\n",
        "a_manual=np.array(a_manual)\n",
        "#To print the (5x5) matrix obtained using manually\n",
        "print(\"The (5x5) matrix 'a'(manual)\",a_manual)\n",
        "\n",
        "\n",
        "\n"
      ],
      "metadata": {
        "colab": {
          "base_uri": "https://localhost:8080/"
        },
        "id": "vQ-s783RDW-e",
        "outputId": "60ed352f-5d8a-4c55-a6bb-5fa1b998be30"
      },
      "execution_count": null,
      "outputs": [
        {
          "output_type": "stream",
          "name": "stdout",
          "text": [
            "Enter the elements of the matrix\n",
            "Enter the elements at 1,1 :1\n",
            "Enter the elements at 1,2 :2\n",
            "Enter the elements at 1,3 :3\n",
            "Enter the elements at 1,4 :4\n",
            "Enter the elements at 1,5 :5\n",
            "Enter the elements at 2,1 :6\n",
            "Enter the elements at 2,2 :7\n",
            "Enter the elements at 2,3 :8\n",
            "Enter the elements at 2,4 :9\n",
            "Enter the elements at 2,5 :10\n",
            "Enter the elements at 3,1 :11\n",
            "Enter the elements at 3,2 :12\n",
            "Enter the elements at 3,3 :13\n",
            "Enter the elements at 3,4 :14\n",
            "Enter the elements at 3,5 :15\n",
            "Enter the elements at 4,1 :16\n",
            "Enter the elements at 4,2 :17\n",
            "Enter the elements at 4,3 :18\n",
            "Enter the elements at 4,4 :19\n",
            "Enter the elements at 4,5 :20\n",
            "Enter the elements at 5,1 :21\n",
            "Enter the elements at 5,2 :22\n",
            "Enter the elements at 5,3 :23\n",
            "Enter the elements at 5,4 :24\n",
            "Enter the elements at 5,5 :25\n",
            "The (5x5) 'a' matrix is =  [[ 1  2  3  4  5]\n",
            " [ 6  7  8  9 10]\n",
            " [11 12 13 14 15]\n",
            " [16 17 18 19 20]\n",
            " [21 22 23 24 25]]\n",
            "The (5x5) matrix 'a'(manual) [[ 1  2  3  4  5]\n",
            " [ 6  7  8  9 10]\n",
            " [11 12 13 14 15]\n",
            " [16 17 18 19 20]\n",
            " [21 22 23 24 25]]\n"
          ]
        }
      ]
    },
    {
      "cell_type": "code",
      "source": [
        "# 3. Get 3rd row out of the matrix\n",
        "#The (5x5) \"a\" matrix\n",
        "import numpy as np\n",
        "a=[[1,2,3,4,5],\n",
        "   [6,7,8,9,10],\n",
        "   [11,12,13,14,15],\n",
        "   [16,17,18,19,20],\n",
        "   [21,22,23,24,25]]\n",
        "a=np.array(a)\n",
        "#third row from the matrix\n",
        "third_row=a[2]\n",
        "# To print the output\n",
        "print(\"The 3rd row of the matrix is: \",third_row)"
      ],
      "metadata": {
        "colab": {
          "base_uri": "https://localhost:8080/"
        },
        "id": "FC27DYKqF-bc",
        "outputId": "628a22c7-d73d-4651-ebb2-8cb66dc686b8"
      },
      "execution_count": null,
      "outputs": [
        {
          "output_type": "stream",
          "name": "stdout",
          "text": [
            "The 3rd row of the matrix is:  [11 12 13 14 15]\n"
          ]
        }
      ]
    },
    {
      "cell_type": "code",
      "source": [
        "# 4. Get the fourth column out of the matrix\n",
        "# (5x5) \"a\" matrix\n",
        "import numpy as np\n",
        "a=[[1,2,3,4,5],\n",
        "   [6,7,8,9,10],\n",
        "   [11,12,13,14,15],\n",
        "   [16,17,18,19,20],\n",
        "   [21,22,23,24,25]]\n",
        "a=np.array(a)\n",
        "#fourth column from the matrix\n",
        "column_number=3\n",
        "fourth_column=[row[column_number] for row in a]\n",
        "print(\"The fourth column of a matrix\",fourth_column)"
      ],
      "metadata": {
        "id": "stXt9Ob5MXBV",
        "colab": {
          "base_uri": "https://localhost:8080/"
        },
        "outputId": "1fe098dd-03c1-492f-f150-33e712d58e94"
      },
      "execution_count": null,
      "outputs": [
        {
          "output_type": "stream",
          "name": "stdout",
          "text": [
            "The fourth column of a matrix [4, 9, 14, 19, 24]\n"
          ]
        }
      ]
    },
    {
      "cell_type": "code",
      "source": [
        "# 5. Sort matrix row wise and column wise\n",
        "# (5x5) \"a\" matrix\n",
        "import numpy as np\n",
        "a=[[1,2,3,4,5],\n",
        "   [6,7,8,9,10],\n",
        "   [11,12,13,14,15],\n",
        "   [16,17,18,19,20],\n",
        "   [21,22,23,24,25]]\n",
        "a=np.array(a)\n",
        "#To sort row wise and column wise\n",
        "#To sort row wise\n",
        "row_wise=np.sort(a,axis=1)\n",
        "\n",
        "print(\"Matrix sorted row wise is: \",row_wise)\n",
        "\n",
        "#To sort column wise\n",
        "column_wise=np.sort(a,axis=0)\n",
        "print(\"Matrix column wise sorted is: \",column_wise)"
      ],
      "metadata": {
        "colab": {
          "base_uri": "https://localhost:8080/"
        },
        "id": "bmuOx10wvRk2",
        "outputId": "53308634-46aa-4a32-c934-9fbb9e8ed427"
      },
      "execution_count": null,
      "outputs": [
        {
          "output_type": "stream",
          "name": "stdout",
          "text": [
            "Matrix sorted row wise is:  [[ 1  2  3  4  5]\n",
            " [ 6  7  8  9 10]\n",
            " [11 12 13 14 15]\n",
            " [16 17 18 19 20]\n",
            " [21 22 23 24 25]]\n",
            "Matrix column wise sorted is:  [[ 1  2  3  4  5]\n",
            " [ 6  7  8  9 10]\n",
            " [11 12 13 14 15]\n",
            " [16 17 18 19 20]\n",
            " [21 22 23 24 25]]\n"
          ]
        }
      ]
    },
    {
      "cell_type": "code",
      "source": [
        "# 6. Apply for loop in matrix, if element is greater than 2, multiply element by 10 say it as \"b\"\n",
        "import numpy as np\n",
        "a=[[1,2,3,4,5],\n",
        "   [6,7,8,9,10],\n",
        "   [11,12,13,14,15],\n",
        "   [16,17,18,19,20],\n",
        "   [21,22,23,24,25]]\n",
        "a=np.array(a)\n",
        "#for loop\n",
        "for i in range(a.shape[0]):\n",
        "  for j in range(a.shape[1]):\n",
        "    if a[i][j]>2:\n",
        "       a[i][j]=a[i][j]*10\n",
        "b=a  #To save matrix as \"b\"\n",
        "#To print the final matrix\n",
        "print(\"The final matrix is: \",b)\n",
        "\n"
      ],
      "metadata": {
        "colab": {
          "base_uri": "https://localhost:8080/"
        },
        "id": "MV4sbYJ6EVQ9",
        "outputId": "32bfb873-f7e8-4e37-c8a7-358a42c80734"
      },
      "execution_count": null,
      "outputs": [
        {
          "output_type": "stream",
          "name": "stdout",
          "text": [
            "The final matrix is:  [[  1   2  30  40  50]\n",
            " [ 60  70  80  90 100]\n",
            " [110 120 130 140 150]\n",
            " [160 170 180 190 200]\n",
            " [210 220 230 240 250]]\n"
          ]
        }
      ]
    },
    {
      "cell_type": "code",
      "source": [
        "# 7. Add a and b\n",
        "#\"a\" matrix\n",
        "import numpy as np\n",
        "a=[[1,2,3,4,5],\n",
        "   [6,7,8,9,10],\n",
        "   [11,12,13,14,15],\n",
        "   [16,17,18,19,20],\n",
        "   [21,22,23,24,25]]\n",
        "a=np.array(a)\n",
        "#\"b\" matrix\n",
        "import numpy as np\n",
        "b=[[1,2,30,40,50],\n",
        "   [60,70,80,90,100],\n",
        "   [110,120,130,140,150],\n",
        "   [160,170,180,190,200],\n",
        "   [210,220,230,240,250]]\n",
        "b=np.array(b)\n",
        "\n",
        "#sum a matrix a and b\n",
        "sum=a+b\n",
        "print(\"The sum of the matrix is= \",sum)\n",
        "\n"
      ],
      "metadata": {
        "colab": {
          "base_uri": "https://localhost:8080/"
        },
        "id": "DFUCJPTXLAeP",
        "outputId": "2ade1772-f20d-40a6-e3e9-38ca38fb8a4c"
      },
      "execution_count": null,
      "outputs": [
        {
          "output_type": "stream",
          "name": "stdout",
          "text": [
            "The sum of the matrix is=  [[  2   4  33  44  55]\n",
            " [ 66  77  88  99 110]\n",
            " [121 132 143 154 165]\n",
            " [176 187 198 209 220]\n",
            " [231 242 253 264 275]]\n"
          ]
        }
      ]
    },
    {
      "cell_type": "code",
      "source": [],
      "metadata": {
        "id": "Gi_rYj5eMWLD"
      },
      "execution_count": null,
      "outputs": []
    },
    {
      "cell_type": "code",
      "source": [
        "# 8. Subtract b from a\n",
        "#\"a\" matrix\n",
        "import numpy as np\n",
        "a=[[1,2,3,4,5],\n",
        "   [6,7,8,9,10],\n",
        "   [11,12,13,14,15],\n",
        "   [16,17,18,19,20],\n",
        "   [21,22,23,24,25]]\n",
        "a=np.array(a)\n",
        "#\"b\" matrix\n",
        "import numpy as np\n",
        "b=[[1,2,30,40,50],\n",
        "   [60,70,80,90,100],\n",
        "   [110,120,130,140,150],\n",
        "   [160,170,180,190,200],\n",
        "   [210,220,230,240,250]]\n",
        "b=np.array(b)\n",
        "\n",
        "#Subtract a matrix a and b\n",
        "subtraction=a-b\n",
        "print(\"The sum of the matrix is= \",subtraction)\n",
        "\n"
      ],
      "metadata": {
        "colab": {
          "base_uri": "https://localhost:8080/"
        },
        "outputId": "145e40c8-2535-4c94-aea6-e550f282982f",
        "id": "OB2JbAI3MZrI"
      },
      "execution_count": null,
      "outputs": [
        {
          "output_type": "stream",
          "name": "stdout",
          "text": [
            "The sum of the matrix is=  [[   0    0  -27  -36  -45]\n",
            " [ -54  -63  -72  -81  -90]\n",
            " [ -99 -108 -117 -126 -135]\n",
            " [-144 -153 -162 -171 -180]\n",
            " [-189 -198 -207 -216 -225]]\n"
          ]
        }
      ]
    },
    {
      "cell_type": "code",
      "source": [],
      "metadata": {
        "id": "jh0nT89-MV7-"
      },
      "execution_count": null,
      "outputs": []
    },
    {
      "cell_type": "code",
      "source": [
        "# 9. Multipication a by b element wise and matrix multiplication\n",
        "#\"a\" matrix\n",
        "import numpy as np\n",
        "a=[[1,2,3,4,5],\n",
        "   [6,7,8,9,10],\n",
        "   [11,12,13,14,15],\n",
        "   [16,17,18,19,20],\n",
        "   [21,22,23,24,25]]\n",
        "a=np.array(a)\n",
        "#\"b\" matrix\n",
        "import numpy as np\n",
        "b=[[1,2,30,40,50],\n",
        "   [60,70,80,90,100],\n",
        "   [110,120,130,140,150],\n",
        "   [160,170,180,190,200],\n",
        "   [210,220,230,240,250]]\n",
        "b=np.array(b)\n",
        "\n",
        "#Element wise multiplication\n",
        "element_wise_multi=a*b\n",
        "print(\"The element wise multiplication matrix is= \",element_wise_multi)\n",
        "\n",
        "#Matrix multiplication\n",
        "matrix_multi=np.dot(a,b)\n",
        "print(\"Matrix multiplication value = \",matrix_multi)\n",
        "\n"
      ],
      "metadata": {
        "colab": {
          "base_uri": "https://localhost:8080/"
        },
        "outputId": "30f84532-0c06-4f71-d501-acc2328824d3",
        "id": "m4l1B1TcNBsx"
      },
      "execution_count": null,
      "outputs": [
        {
          "output_type": "stream",
          "name": "stdout",
          "text": [
            "The element wise multiplication matrix is=  [[   1    4   90  160  250]\n",
            " [ 360  490  640  810 1000]\n",
            " [1210 1440 1690 1960 2250]\n",
            " [2560 2890 3240 3610 4000]\n",
            " [4410 4840 5290 5760 6250]]\n",
            "Matrix multiplication value =  [[ 2141  2282  2450  2600  2750]\n",
            " [ 4846  5192  5700  6100  6500]\n",
            " [ 7551  8102  8950  9600 10250]\n",
            " [10256 11012 12200 13100 14000]\n",
            " [12961 13922 15450 16600 17750]]\n"
          ]
        }
      ]
    },
    {
      "cell_type": "code",
      "source": [
        "# 10. Divide each element of matrix a and b by 18\n",
        "#\"a\" matrix\n",
        "import numpy as np\n",
        "a=[[1,2,3,4,5],\n",
        "   [6,7,8,9,10],\n",
        "   [11,12,13,14,15],\n",
        "   [16,17,18,19,20],\n",
        "   [21,22,23,24,25]]\n",
        "a=np.array(a)\n",
        "#\"b\" matrix\n",
        "import numpy as np\n",
        "b=[[1,2,30,40,50],\n",
        "   [60,70,80,90,100],\n",
        "   [110,120,130,140,150],\n",
        "   [160,170,180,190,200],\n",
        "   [210,220,230,240,250]]\n",
        "b=np.array(b)\n",
        "\n",
        "#Divide element of a by 18\n",
        "a_division=a/18\n",
        "print(\"The resulting 'a' matrix is=\",a_division)\n",
        "\n",
        "#Divide element of b by 18\n",
        "b_division=b/18\n",
        "print(\"The resulting 'b' matrix is= \",b_division)"
      ],
      "metadata": {
        "colab": {
          "base_uri": "https://localhost:8080/"
        },
        "id": "9l8aFUB6RrzO",
        "outputId": "664357aa-3ede-4852-b658-7c31a591151e"
      },
      "execution_count": null,
      "outputs": [
        {
          "output_type": "stream",
          "name": "stdout",
          "text": [
            "The resulting 'a' matrix is= [[0.05555556 0.11111111 0.16666667 0.22222222 0.27777778]\n",
            " [0.33333333 0.38888889 0.44444444 0.5        0.55555556]\n",
            " [0.61111111 0.66666667 0.72222222 0.77777778 0.83333333]\n",
            " [0.88888889 0.94444444 1.         1.05555556 1.11111111]\n",
            " [1.16666667 1.22222222 1.27777778 1.33333333 1.38888889]]\n",
            "The resulting 'b' matrix is=  [[ 0.05555556  0.11111111  1.66666667  2.22222222  2.77777778]\n",
            " [ 3.33333333  3.88888889  4.44444444  5.          5.55555556]\n",
            " [ 6.11111111  6.66666667  7.22222222  7.77777778  8.33333333]\n",
            " [ 8.88888889  9.44444444 10.         10.55555556 11.11111111]\n",
            " [11.66666667 12.22222222 12.77777778 13.33333333 13.88888889]]\n"
          ]
        }
      ]
    },
    {
      "cell_type": "code",
      "source": [
        "# 11. Find the inverse,rank, condition number, singular value decomposition, and the norm of the matrices a and b\n",
        "#\"a\" matrix\n",
        "import numpy as np\n",
        "a=[[1,2,3,4,5],\n",
        "   [6,7,8,9,10],\n",
        "   [11,12,13,14,15],\n",
        "   [16,17,18,19,20],\n",
        "   [21,22,23,24,25]]\n",
        "a=np.array(a)\n",
        "#\"b\" matrix\n",
        "import numpy as np\n",
        "b=[[1,2,30,40,50],\n",
        "   [60,70,80,90,100],\n",
        "   [110,120,130,140,150],\n",
        "   [160,170,180,190,200],\n",
        "   [210,220,230,240,250]]\n",
        "b=np.array(b)\n",
        "\n",
        "\n",
        "# Inverse of matrices a and b\n",
        "try:\n",
        "\n",
        "   a_inverse=np.linalg.inv(a)\n",
        "   b_inverse=np.linalg.inv(b)\n",
        "\n",
        "# To print the inverse of matrices\n",
        "   print(\"The inverse of matrix 'a' is = \",a_inverse)\n",
        "   print(\"The inverse of matrix 'b' is = \",b_inverse)\n",
        "\n",
        "# The given matrices are singular matrix\n",
        "except np.linalg.LinAlgError:\n",
        "  print(\"There is no inverse for the matrices as the matrices are singular\")\n",
        "\n",
        "\n",
        "# Rank of the matrices a and b\n",
        "a_rank=np.linalg.matrix_rank(a)\n",
        "b_rank=np.linalg.matrix_rank(b)\n",
        "\n",
        "#To print the rank of matrices\n",
        "print(\"The rank of the matrix 'a' is = \",a_rank)\n",
        "print(\"The rank of the matrix 'b' is = \",b_rank)\n",
        "\n",
        "# Condition number of matrices a and b\n",
        "a_cond=np.linalg.cond(a)\n",
        "b_cond=np.linalg.cond(b)\n",
        "# To print the condition number of matrices a and b\n",
        "print(\"The condition number of matrix 'a'=\",a_cond)\n",
        "print(\"The condition number of matrix 'b' =\",a_cond)\n",
        "\n",
        "# Singular value decomoposition of matrices a and b\n",
        "a_u,a_s,a_v=np.linalg.svd(a)\n",
        "b_u,b_s,b_v=np.linalg.svd(a)\n",
        "# To print the svd of matrices a and b\n",
        "print(\"The singular value decomposition of matrix 'a'- 'u','s','v':\",a_u,a_s,a_v)\n",
        "print(\"The singualr value decomposition of matrix 'b'-'u','s','v':\",b_u,b_s,b_v)\n",
        "\n",
        "#Norm of matrices a and b\n",
        "a_norm=np.linalg.norm(a)\n",
        "b_norm=np.linalg.norm(b)\n",
        "# To print norm of matrices a and b\n",
        "print(\"The norm of matrix 'a' =\",a_norm)\n",
        "print(\"The norm of matrix 'b' =\",b_norm)\n"
      ],
      "metadata": {
        "colab": {
          "base_uri": "https://localhost:8080/"
        },
        "id": "xkfmthmQFYgi",
        "outputId": "1433f4ee-589c-487a-ef22-2b115a258106"
      },
      "execution_count": null,
      "outputs": [
        {
          "output_type": "stream",
          "name": "stdout",
          "text": [
            "There is no inverse for the matrices as the matrices are singular\n",
            "The rank of the matrix 'a' is =  2\n",
            "The rank of the matrix 'b' is =  3\n",
            "The condition number of matrix 'a'= 3.5675570478720614e+17\n",
            "The condition number of matrix 'b' = 3.5675570478720614e+17\n",
            "The singular value decomposition of matrix 'a'- 'u','s','v': [[-0.09359323 -0.76892152  0.61130515  0.0196316  -0.16099879]\n",
            " [-0.24363203 -0.49055421 -0.5142169  -0.45682855  0.4763283 ]\n",
            " [-0.39367083 -0.2121869  -0.3594458   0.81870773 -0.02272392]\n",
            " [-0.54370962  0.06618041 -0.18367831 -0.34545623 -0.73954194]\n",
            " [-0.69374842  0.34454772  0.44603585 -0.03605456  0.44693633]] [7.42540539e+01 3.36681954e+00 2.98266488e-15 1.53916447e-15\n",
            " 2.08136977e-16] [[-0.39262281 -0.41913118 -0.44563955 -0.47214793 -0.4986563 ]\n",
            " [ 0.667718    0.35260325  0.0374885  -0.27762625 -0.592741  ]\n",
            " [ 0.5359956  -0.50603463 -0.52349916  0.42111979  0.0724184 ]\n",
            " [-0.33541664  0.36000724 -0.21070021  0.68304527 -0.49693566]\n",
            " [ 0.01429645 -0.56064583  0.69394096  0.23686977 -0.38446135]]\n",
            "The singualr value decomposition of matrix 'b'-'u','s','v': [[-0.09359323 -0.76892152  0.61130515  0.0196316  -0.16099879]\n",
            " [-0.24363203 -0.49055421 -0.5142169  -0.45682855  0.4763283 ]\n",
            " [-0.39367083 -0.2121869  -0.3594458   0.81870773 -0.02272392]\n",
            " [-0.54370962  0.06618041 -0.18367831 -0.34545623 -0.73954194]\n",
            " [-0.69374842  0.34454772  0.44603585 -0.03605456  0.44693633]] [7.42540539e+01 3.36681954e+00 2.98266488e-15 1.53916447e-15\n",
            " 2.08136977e-16] [[-0.39262281 -0.41913118 -0.44563955 -0.47214793 -0.4986563 ]\n",
            " [ 0.667718    0.35260325  0.0374885  -0.27762625 -0.592741  ]\n",
            " [ 0.5359956  -0.50603463 -0.52349916  0.42111979  0.0724184 ]\n",
            " [-0.33541664  0.36000724 -0.21070021  0.68304527 -0.49693566]\n",
            " [ 0.01429645 -0.56064583  0.69394096  0.23686977 -0.38446135]]\n",
            "The norm of matrix 'a' = 74.33034373659252\n",
            "The norm of matrix 'b' = 742.9703897195366\n"
          ]
        }
      ]
    },
    {
      "cell_type": "code",
      "source": [
        "# 12. Find the norm, inner product and outer product of column vector\n",
        "#To create a column vector\n",
        "import numpy as np\n",
        "column=input(\"Enter the column elements: \")\n",
        "column_vector=[int(x) for x in column.split()]\n",
        "column_input=np.array(column_vector).reshape(-1,1)\n",
        "\n",
        "#Norm of column vector\n",
        "column_norm=np.linalg.norm(column_input)\n",
        "# To print result\n",
        "print(\"The norm of column vector is= \",column_norm)\n",
        "\n",
        "#Inner product of the column vector\n",
        "column_inner_product=np.dot(column_input.T,column_input)\n",
        "#To print the result\n",
        "print(\"The inner product of the column vector= \",column_inner_product)\n",
        "\n",
        "#Outer product of column vector\n",
        "column_outer_product=np.outer(column_input,column_input)\n",
        "#To print the result\n",
        "print(\"The outer product of column vector = \",column_outer_product)"
      ],
      "metadata": {
        "colab": {
          "base_uri": "https://localhost:8080/"
        },
        "id": "xHG8F7x3UIJQ",
        "outputId": "547146c1-58f1-4e13-d681-513160b0e7e1"
      },
      "execution_count": null,
      "outputs": [
        {
          "output_type": "stream",
          "name": "stdout",
          "text": [
            "Enter the column elements: 1 2 3 4\n",
            "The norm of column vector is=  5.477225575051661\n",
            "The inner product of the column vector=  [[30]]\n",
            "The outer product of column vector =  [[ 1  2  3  4]\n",
            " [ 2  4  6  8]\n",
            " [ 3  6  9 12]\n",
            " [ 4  8 12 16]]\n"
          ]
        }
      ]
    },
    {
      "cell_type": "code",
      "source": [
        "# 13. Write a function called derivative which takes input parameters f(x), a, method (forward,backward\n",
        "#and central) and h(step size) (with default values method=‘central’ and h = 0.01) and returns the\n",
        "#corresponding difference formula for derivative of function at a with step size h and then test your\n",
        "#function on e^x and cos x at x = 0.5\n",
        "import numpy as np\n",
        "def derivative(f,a,method='central',h=0.01):\n",
        "  if method=='forward':\n",
        "    return((f(a+h)-f(a))/h)\n",
        "  elif method=='backward':\n",
        "    return((f(a)-f(a-h))/h)\n",
        "  elif method=='central':\n",
        "    return((f(a+h)-f(a-h))/(2*h))\n",
        "  else:\n",
        "    raise ValueError(\"Choose from forward, backward, or central\")\n",
        "\n",
        "# To define the function and test the derivative function\n",
        "def exponential(x):\n",
        "  return np.exp(x)\n",
        "def cosine(x):\n",
        "  return np.cos(x)\n",
        "x_value=0.5\n",
        "\n",
        "print(\"The derivative of e^x at x=\",x_value,\"from central difference is=\",derivative(exponential,x_value))\n",
        "print(\"The derivative of cosx at x=\",x_value,\"from central difference is=\",derivative(cosine,x_value))\n"
      ],
      "metadata": {
        "colab": {
          "base_uri": "https://localhost:8080/"
        },
        "id": "HMJ6LvIXaQhp",
        "outputId": "63661a8f-c6c6-40f7-af14-0e42ef59f70c"
      },
      "execution_count": null,
      "outputs": [
        {
          "output_type": "stream",
          "name": "stdout",
          "text": [
            "The derivative of e^x at x= 0.5 from central difference is= 1.648748749525375\n",
            "The derivative of cosx at x= 0.5 from central difference is= -0.4794175482185081\n"
          ]
        }
      ]
    },
    {
      "cell_type": "code",
      "source": [
        "# 14. Download the Automatic Weather Station AWS Data. Read the .csv file using pandas library as a DataFrame\n",
        "import pandas as pd\n",
        "#Path of the csv file\n",
        "input_file='/content/drive/MyDrive/AWS.csv'\n",
        "#To read the csv file and create a dataframe\n",
        "data_frame=pd.read_csv(input_file)\n",
        "#data_frame is pandas dataframe with the data and to display first few rows of the DataFrame\n",
        "print(data_frame.head(15))\n",
        "\n",
        "\n",
        "\n",
        "\n",
        "\n"
      ],
      "metadata": {
        "id": "-F1P5YhWejND",
        "colab": {
          "base_uri": "https://localhost:8080/"
        },
        "outputId": "b6ff5bf4-2faf-426c-a02e-35406fd61f4d"
      },
      "execution_count": null,
      "outputs": [
        {
          "output_type": "stream",
          "name": "stdout",
          "text": [
            "                   created_at  entry_id  Soil Temperature  Soil Moisture  \\\n",
            "0   2022-12-14T14:19:11+05:30     10830             21.06            817   \n",
            "1   2022-12-14T14:20:13+05:30     10831             21.06            817   \n",
            "2   2022-12-14T14:21:15+05:30     10832             21.06            817   \n",
            "3   2022-12-14T14:22:18+05:30     10833             21.06            817   \n",
            "4   2022-12-14T14:23:20+05:30     10834             21.06            817   \n",
            "5   2022-12-14T14:24:23+05:30     10835             21.06            817   \n",
            "6   2022-12-14T14:25:25+05:30     10836             21.06            817   \n",
            "7   2022-12-14T14:46:42+05:30     10837             20.87            816   \n",
            "8   2022-12-14T15:17:36+05:30     10838             20.87            816   \n",
            "9   2022-12-14T15:57:37+05:30     10839             20.81            815   \n",
            "10  2022-12-14T16:17:37+05:30     10840             20.56            816   \n",
            "11  2022-12-14T16:37:36+05:30     10841             20.37            816   \n",
            "12  2022-12-14T16:57:36+05:30     10842             20.12            815   \n",
            "13  2022-12-14T17:37:35+05:30     10843             19.62            814   \n",
            "14  2022-12-14T18:18:17+05:30     10844             19.06            814   \n",
            "\n",
            "    Wind Speed  Rainfall  Temperature  Humidity  Pressure  Battery Voltage  \n",
            "0         0.00      0.25        25.38     45.09      1.94             4.14  \n",
            "1         0.00      0.25        25.27     46.52      1.94             4.14  \n",
            "2         0.00      0.25        25.34     45.79      1.94             4.14  \n",
            "3         0.00      0.25        25.13     44.91      1.94             4.15  \n",
            "4         0.00      0.25        24.95     45.12      1.94             4.15  \n",
            "5         0.00      0.25        25.33     46.54      1.94             4.14  \n",
            "6         0.00      0.25        25.00     46.28      1.94             4.14  \n",
            "7         0.34      0.25        24.54     47.84      1.96             4.15  \n",
            "8         0.67      0.25        24.44     45.55      1.95             4.18  \n",
            "9         0.67      0.25        23.37     48.40      1.95             4.12  \n",
            "10        0.00      0.25        22.67     51.45      1.95             4.10  \n",
            "11        0.00      0.25        21.69     54.42      1.95             4.11  \n",
            "12        0.00      0.25        20.25     58.57      1.95             4.10  \n",
            "13        0.00      0.25        17.20     70.02      1.95             4.11  \n",
            "14        0.00      0.25        15.42     77.23      1.95             4.09  \n"
          ]
        }
      ]
    },
    {
      "cell_type": "code",
      "source": [],
      "metadata": {
        "id": "VHDypFza-K-K"
      },
      "execution_count": null,
      "outputs": []
    }
  ]
}